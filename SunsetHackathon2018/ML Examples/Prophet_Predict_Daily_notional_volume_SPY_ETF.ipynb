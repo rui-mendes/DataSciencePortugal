{
 "cells": [
  {
   "cell_type": "markdown",
   "metadata": {},
   "source": [
    "# Prophet - Time series prediction\n",
    "\n",
    "[Prophet](https://github.com/facebookincubator/prophet) is an opiniated time series prediction library. Its syntax is compatible with [scikit-learn](https://github.com/scikit-learn/scikit-learn). It uses stan models for prediction.\n",
    "\n",
    "One good getting started notebook for fbprophet is in their repo - [link here](https://github.com/facebookincubator/prophet/blob/master/notebooks/quick_start.ipynb)\n",
    "\n",
    "We will try to predict the future notional volume of [SPY](https://www.google.com/finance?q=SPY) ETF below. Daily notional volume is the dollar amount traded every day. [SPY](https://www.google.com/finance?q=SPY) ETF mimics the S&P 500 stock index and has been the most traded equity contract in the world for a long time now.\n",
    "\n",
    "Steps:\n",
    "1. Load the data and rename the columns to the required 'ds' and 'y' columns.\n",
    "1. Fit the model and predict for the next 1 year.\n",
    "1. Iterate over the data/model parameters and go back to the previous step!"
   ]
  },
  {
   "cell_type": "code",
   "execution_count": null,
   "metadata": {},
   "outputs": [],
   "source": [
    "%matplotlib inline\n",
    "from fbprophet import Prophet\n",
    "\n",
    "import pandas as pd\n",
    "\n",
    "# Read the SPY_notional.csv file\n",
    "# Prophet expects the days/time to be in the 'ds' column and the values in the 'y' column.\n",
    "df = pd.read_csv('data/SPY_notional.csv')\n",
    "df.head()"
   ]
  },
  {
   "cell_type": "markdown",
   "metadata": {},
   "source": [
    "## Create a prophet model and predict for the next 1 year\n",
    "\n",
    "We will use the [logistic growth model](https://github.com/facebookincubator/prophet/blob/master/python/stan/prophet_logistic_growth.stan).\n",
    "It requires us to have the `cap` column."
   ]
  },
  {
   "cell_type": "code",
   "execution_count": null,
   "metadata": {},
   "outputs": [],
   "source": [
    "m = Prophet()\n",
    "m.fit(df)\n",
    "\n",
    "future = m.make_future_dataframe(periods=365)\n",
    "forecast = m.predict(future)\n",
    "forecast[['ds', 'yhat', 'yhat_lower', 'yhat_upper']].tail()"
   ]
  },
  {
   "cell_type": "markdown",
   "metadata": {},
   "source": [
    "## Plot the predictions"
   ]
  },
  {
   "cell_type": "code",
   "execution_count": null,
   "metadata": {},
   "outputs": [],
   "source": [
    "m.plot(forecast);"
   ]
  },
  {
   "cell_type": "code",
   "execution_count": null,
   "metadata": {},
   "outputs": [],
   "source": [
    "m.plot_components(forecast);"
   ]
  },
  {
   "cell_type": "markdown",
   "metadata": {
    "collapsed": true
   },
   "source": [
    "## Interpretation\n",
    "\n",
    "As we can see in the above graphs, **Prophet** does a good enough job of incorporating the seasonality. i.e. Decembers are generally low volume periods and Januarys are generally high volume periods. The predicted notional volume does reflect these aspects.\n",
    "\n",
    "It's hard to miss the fact that the volume gradually increases till the finantial crisis and is slowly decreasing ever since. Since we expect this trend to continue for the forseeable future, it might be better to only consider the data after 2010-01-01."
   ]
  },
  {
   "cell_type": "code",
   "execution_count": null,
   "metadata": {},
   "outputs": [],
   "source": [
    "# Filter the DataFrame\n",
    "df = df[df['ds'] >= '2010-01-01']\n",
    "\n",
    "# Create and fit a new Prophet model\n",
    "m = Prophet()\n",
    "m.fit(df)\n",
    "\n",
    "# Make the predictions\n",
    "future = m.make_future_dataframe(periods=365)\n",
    "forecast = m.predict(future)\n",
    "\n",
    "# Plot\n",
    "m.plot(forecast);"
   ]
  },
  {
   "cell_type": "code",
   "execution_count": null,
   "metadata": {},
   "outputs": [],
   "source": [
    "# Let's do this quickly for another ETF - VTI\n",
    "df = pd.read_csv('VTI_notional.csv')\n",
    "\n",
    "# Filter the DataFrame\n",
    "df = df[df['ds'] >= '2010-01-01']\n",
    "\n",
    "# Create and fit a new Prophet model\n",
    "m = Prophet()\n",
    "m.fit(df)\n",
    "\n",
    "# Make the predictions\n",
    "future = m.make_future_dataframe(periods=365)\n",
    "forecast = m.predict(future)\n",
    "\n",
    "# Plot\n",
    "m.plot(forecast);"
   ]
  },
  {
   "cell_type": "markdown",
   "metadata": {},
   "source": [
    "In contrast with **SPY**, **VTI** volume has been increasing which is in line with the general trend in ETFs.\n",
    "\n",
    "Even the seasonality factor is a bit different in the **VTI** notional volume."
   ]
  },
  {
   "cell_type": "code",
   "execution_count": null,
   "metadata": {},
   "outputs": [],
   "source": []
  }
 ],
 "metadata": {
  "kernelspec": {
   "display_name": "Python 3",
   "language": "python",
   "name": "python3"
  },
  "language_info": {
   "codemirror_mode": {
    "name": "ipython",
    "version": 3
   },
   "file_extension": ".py",
   "mimetype": "text/x-python",
   "name": "python",
   "nbconvert_exporter": "python",
   "pygments_lexer": "ipython3",
   "version": "3.6.6"
  }
 },
 "nbformat": 4,
 "nbformat_minor": 1
}
